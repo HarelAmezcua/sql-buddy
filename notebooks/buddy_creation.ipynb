{
 "cells": [
  {
   "cell_type": "markdown",
   "metadata": {},
   "source": [
    "# SQL-Buddy: Natural Language to SQL Assistant\n",
    "### Simplify SQL generation with the power of AI\n",
    "\n",
    "This notebook demonstrates the creation, implementation, and testing of SQL-Buddy, a tool designed to convert natural language queries into SQL statements effortlessly."
   ]
  },
  {
   "cell_type": "code",
   "execution_count": 20,
   "metadata": {},
   "outputs": [
    {
     "data": {
      "text/plain": [
       "True"
      ]
     },
     "execution_count": 20,
     "metadata": {},
     "output_type": "execute_result"
    }
   ],
   "source": [
    "from openai import OpenAI\n",
    "from dotenv import load_dotenv\n",
    "import os\n",
    "import requests\n",
    "from bs4 import BeautifulSoup\n",
    "import gradio as gr\n",
    "\n",
    "load_dotenv()"
   ]
  },
  {
   "cell_type": "code",
   "execution_count": 8,
   "metadata": {},
   "outputs": [],
   "source": [
    "client = OpenAI()"
   ]
  },
  {
   "cell_type": "code",
   "execution_count": 23,
   "metadata": {},
   "outputs": [],
   "source": [
    "system_messages = \"You are a Helpful Assistant!\"\n",
    "MODEL = \"gpt-4o-mini\"\n",
    "\n",
    "def chat (message, history):\n",
    "    messages = [{'role': 'system', \"content\": system_messages}] + history + [{\"role\": \"user\", \"content\": message}]\n",
    "\n",
    "    print(\"Messages is: \")\n",
    "    print(messages)\n",
    "\n",
    "    stream = client.chat.completions.create(model = MODEL, messages = messages,stream = True)\n",
    "\n",
    "    response = \"\"\n",
    "\n",
    "    for chunk in stream:        \n",
    "        response += chunk.choices[0].delta.content or ''\n",
    "        yield response"
   ]
  },
  {
   "cell_type": "code",
   "execution_count": null,
   "metadata": {},
   "outputs": [
    {
     "name": "stdout",
     "output_type": "stream",
     "text": [
      "* Running on local URL:  http://127.0.0.1:7862\n",
      "\n",
      "To create a public link, set `share=True` in `launch()`.\n"
     ]
    },
    {
     "data": {
      "text/html": [
       "<div><iframe src=\"http://127.0.0.1:7862/\" width=\"100%\" height=\"500\" allow=\"autoplay; camera; microphone; clipboard-read; clipboard-write;\" frameborder=\"0\" allowfullscreen></iframe></div>"
      ],
      "text/plain": [
       "<IPython.core.display.HTML object>"
      ]
     },
     "metadata": {},
     "output_type": "display_data"
    },
    {
     "data": {
      "text/plain": []
     },
     "execution_count": 26,
     "metadata": {},
     "output_type": "execute_result"
    }
   ],
   "source": [
    "with gr.Blocks() as demo:\n",
    "    # Top Section (Title & Description)\n",
    "    with gr.Column():\n",
    "        gr.Markdown(\"# SQL-Buddy\")\n",
    "        gr.Markdown(\"🚀 Convert natural language to SQL queries using GPT-4o mini\")\n",
    "        #gr.Image(value=\"\", label=\"SQL-Buddy Logo\")        \n",
    "\n",
    "    # Middle Section (Main Chat UI)\n",
    "    with gr.Row():\n",
    "        gr.ChatInterface(fn = chat, type=\"messages\")\n",
    "    \n",
    "    # Bottom Section (Extras or Footer)\n",
    "    with gr.Column():\n",
    "        gr.Markdown(\"### Need help?\")\n",
    "        gr.Markdown(\"Contact us at [support@example.com](mailto:support@example.com)\")\n",
    "\n",
    "demo.launch()"
   ]
  }
 ],
 "metadata": {
  "kernelspec": {
   "display_name": "Python (myenv)",
   "language": "python",
   "name": "myenv"
  },
  "language_info": {
   "codemirror_mode": {
    "name": "ipython",
    "version": 3
   },
   "file_extension": ".py",
   "mimetype": "text/x-python",
   "name": "python",
   "nbconvert_exporter": "python",
   "pygments_lexer": "ipython3",
   "version": "3.11.9"
  }
 },
 "nbformat": 4,
 "nbformat_minor": 2
}
